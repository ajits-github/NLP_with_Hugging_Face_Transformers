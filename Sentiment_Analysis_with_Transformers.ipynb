{
  "cells": [
    {
      "cell_type": "markdown",
      "metadata": {
        "id": "view-in-github",
        "colab_type": "text"
      },
      "source": [
        "<a href=\"https://colab.research.google.com/github/ajits-github/NLP_with_Hugging_Face_Transformers/blob/main/Sentiment_Analysis_with_Transformers.ipynb\" target=\"_parent\"><img src=\"https://colab.research.google.com/assets/colab-badge.svg\" alt=\"Open In Colab\"/></a>"
      ]
    },
    {
      "cell_type": "code",
      "execution_count": null,
      "id": "f34d8b0d",
      "metadata": {
        "id": "f34d8b0d",
        "outputId": "c59a1c20-42a7-4ac0-feaa-76c441fa3d5a"
      },
      "outputs": [
        {
          "name": "stderr",
          "output_type": "stream",
          "text": [
            "/opt/anaconda3/envs/transformers-1/lib/python3.9/site-packages/tqdm/auto.py:22: TqdmWarning: IProgress not found. Please update jupyter and ipywidgets. See https://ipywidgets.readthedocs.io/en/stable/user_install.html\n",
            "  from .autonotebook import tqdm as notebook_tqdm\n"
          ]
        }
      ],
      "source": [
        "#The main package that contains functions to use Hugging Face\n",
        "import transformers\n",
        "\n",
        "#Set to avoid warning messages.\n",
        "transformers.logging.set_verbosity_error()"
      ]
    },
    {
      "cell_type": "markdown",
      "id": "73ca837c",
      "metadata": {
        "id": "73ca837c"
      },
      "source": [
        "## 05.02. Reviewing the Pipeline\n",
        "\n",
        "Use the pipeline registry to look at available pipeline tasks and also explore a specific pipeline"
      ]
    },
    {
      "cell_type": "code",
      "execution_count": null,
      "id": "4c0cfee0",
      "metadata": {
        "id": "4c0cfee0",
        "outputId": "0f02e326-8871-44f1-cdf0-b0300e6bcecd"
      },
      "outputs": [
        {
          "name": "stdout",
          "output_type": "stream",
          "text": [
            "['audio-classification', 'automatic-speech-recognition', 'conversational', 'depth-estimation', 'document-question-answering', 'feature-extraction', 'fill-mask', 'image-classification', 'image-segmentation', 'image-to-text', 'ner', 'object-detection', 'question-answering', 'sentiment-analysis', 'summarization', 'table-question-answering', 'text-classification', 'text-generation', 'text2text-generation', 'token-classification', 'translation', 'visual-question-answering', 'vqa', 'zero-shot-classification', 'zero-shot-image-classification', 'zero-shot-object-detection']\n"
          ]
        }
      ],
      "source": [
        "from transformers.pipelines import PIPELINE_REGISTRY\n",
        "\n",
        "#Get the list of tasks that are supported by Huggingface pipeline\n",
        "print(PIPELINE_REGISTRY.get_supported_tasks())\n"
      ]
    },
    {
      "cell_type": "code",
      "execution_count": null,
      "id": "47ede308",
      "metadata": {
        "id": "47ede308",
        "outputId": "af63a209-9edc-48e2-d8a7-e2265ca5bd0a"
      },
      "outputs": [
        {
          "name": "stdout",
          "output_type": "stream",
          "text": [
            "\n",
            "Default Model for Sentiment Analysis: \n",
            "{'model': {'pt': ('distilbert-base-uncased-finetuned-sst-2-english', 'af0f99b'), 'tf': ('distilbert-base-uncased-finetuned-sst-2-english', 'af0f99b')}}\n"
          ]
        }
      ],
      "source": [
        "#Get information about a specific task\n",
        "print(\"\\nDefault Model for Sentiment Analysis: \")\n",
        "print(PIPELINE_REGISTRY.check_task('sentiment-analysis')[1].get('default'))"
      ]
    },
    {
      "cell_type": "markdown",
      "id": "58bb2f76",
      "metadata": {
        "id": "58bb2f76"
      },
      "source": [
        "## 05.03 Loading a Pipeline"
      ]
    },
    {
      "cell_type": "code",
      "execution_count": null,
      "id": "4f892fe0",
      "metadata": {
        "id": "4f892fe0",
        "outputId": "b4ffc961-9081-42fe-ebb5-bd1d225fa2d1"
      },
      "outputs": [
        {
          "name": "stderr",
          "output_type": "stream",
          "text": [
            "Downloading: 100%|██████████████████████████████████████████████████████████████████████████████| 629/629 [00:00<00:00, 155kB/s]\n",
            "Downloading: 100%|███████████████████████████████████████████████████████████████████████████| 268M/268M [00:09<00:00, 28.7MB/s]\n",
            "Downloading: 100%|███████████████████████████████████████████████████████████████████████████| 48.0/48.0 [00:00<00:00, 28.7kB/s]\n",
            "Downloading: 100%|████████████████████████████████████████████████████████████████████████████| 232k/232k [00:00<00:00, 632kB/s]\n"
          ]
        },
        {
          "name": "stdout",
          "output_type": "stream",
          "text": [
            "Huggingface Cache directory is :  /Users/linkedin/.cache/huggingface/hub\n"
          ]
        },
        {
          "data": {
            "text/plain": [
              "['models--distilbert-base-uncased-finetuned-sst-2-english', 'version.txt']"
            ]
          },
          "execution_count": 4,
          "metadata": {},
          "output_type": "execute_result"
        }
      ],
      "source": [
        "from transformers import pipeline\n",
        "import os\n",
        "\n",
        "#Load a pipeline. This will download the model checkpoint from huggingface and cache it\n",
        "#locally on disk. If model is already available in cache, it will simply use the cached version\n",
        "#Download will usually take a long time, depending on network bandwidth\n",
        "\n",
        "sentiment_classifier = pipeline(\"sentiment-analysis\")\n",
        "\n",
        "#Cache usually available at : <<user-home>>.cache\\huggingface\\hub\n",
        "\n",
        "cache_dir = os.path.expanduser('~') + \"/.cache/huggingface/hub\"\n",
        "print(\"Huggingface Cache directory is : \", cache_dir)\n",
        "\n",
        "#Contents of cache directory\n",
        "os.listdir(cache_dir)"
      ]
    },
    {
      "cell_type": "markdown",
      "id": "01f95416",
      "metadata": {
        "id": "01f95416"
      },
      "source": [
        "## 05.04. Predicting Sentiment with Default Model"
      ]
    },
    {
      "cell_type": "code",
      "execution_count": null,
      "id": "7f24b4ea",
      "metadata": {
        "id": "7f24b4ea",
        "outputId": "2a0ece09-50de-4d04-ced0-2aee9e05c719"
      },
      "outputs": [
        {
          "name": "stdout",
          "output_type": "stream",
          "text": [
            "[{'label': 'POSITIVE', 'score': 0.9998713731765747}]\n"
          ]
        }
      ],
      "source": [
        "#Predict sentiment using the pipeline\n",
        "sentiment_results=sentiment_classifier(\"This is a great course\")\n",
        "print(sentiment_results)\n"
      ]
    },
    {
      "cell_type": "code",
      "execution_count": null,
      "id": "104c06f7",
      "metadata": {
        "id": "104c06f7",
        "outputId": "4cb8c3e0-6ea5-48b1-8c1d-b1486871e52c"
      },
      "outputs": [
        {
          "name": "stdout",
          "output_type": "stream",
          "text": [
            "[{'label': 'NEGATIVE', 'score': 0.9998070597648621}]\n"
          ]
        }
      ],
      "source": [
        "#A second example\n",
        "sentiment_results=sentiment_classifier(\"The download speed is really bad\")\n",
        "print(sentiment_results)"
      ]
    },
    {
      "cell_type": "markdown",
      "id": "8154d932",
      "metadata": {
        "id": "8154d932"
      },
      "source": [
        "## 05.05. Using a custom Model"
      ]
    },
    {
      "cell_type": "code",
      "execution_count": null,
      "id": "2e52dbb2",
      "metadata": {
        "id": "2e52dbb2",
        "outputId": "b935f4f3-c2a7-4543-c96e-90a5ab4066b1"
      },
      "outputs": [
        {
          "name": "stderr",
          "output_type": "stream",
          "text": [
            "Downloading: 100%|██████████████████████████████████████████████████████████████████████████████| 890/890 [00:00<00:00, 445kB/s]\n",
            "Downloading: 100%|███████████████████████████████████████████████████████████████████████████| 540M/540M [00:18<00:00, 29.5MB/s]\n",
            "Downloading: 100%|██████████████████████████████████████████████████████████████████████████████| 295/295 [00:00<00:00, 112kB/s]\n",
            "Downloading: 100%|███████████████████████████████████████████████████████████████████████████| 843k/843k [00:00<00:00, 1.70MB/s]\n",
            "Downloading: 100%|█████████████████████████████████████████████████████████████████████████| 1.08M/1.08M [00:00<00:00, 1.74MB/s]\n",
            "Downloading: 100%|███████████████████████████████████████████████████████████████████████████| 17.0/17.0 [00:00<00:00, 9.05kB/s]\n",
            "Downloading: 100%|█████████████████████████████████████████████████████████████████████████████| 150/150 [00:00<00:00, 76.8kB/s]\n"
          ]
        },
        {
          "name": "stdout",
          "output_type": "stream",
          "text": [
            "[{'label': 'POS', 'score': 0.9905492663383484}]\n"
          ]
        },
        {
          "data": {
            "text/plain": [
              "['models--distilbert-base-uncased-finetuned-sst-2-english',\n",
              " 'version.txt',\n",
              " 'models--finiteautomata--bertweet-base-sentiment-analysis']"
            ]
          },
          "execution_count": 7,
          "metadata": {},
          "output_type": "execute_result"
        }
      ],
      "source": [
        "sentiment_classifier = pipeline(task=\"sentiment-analysis\",\n",
        "                                model=\"finiteautomata/bertweet-base-sentiment-analysis\")\n",
        "\n",
        "sentiment_result=sentiment_classifier(\"This is a great course\")\n",
        "\n",
        "print(sentiment_result)\n",
        "\n",
        "#Contents of cache directory\n",
        "os.listdir(cache_dir)"
      ]
    },
    {
      "cell_type": "code",
      "execution_count": null,
      "id": "5c7ed64d",
      "metadata": {
        "id": "5c7ed64d"
      },
      "outputs": [],
      "source": []
    }
  ],
  "metadata": {
    "kernelspec": {
      "display_name": "Python 3 (ipykernel)",
      "language": "python",
      "name": "python3"
    },
    "language_info": {
      "codemirror_mode": {
        "name": "ipython",
        "version": 3
      },
      "file_extension": ".py",
      "mimetype": "text/x-python",
      "name": "python",
      "nbconvert_exporter": "python",
      "pygments_lexer": "ipython3",
      "version": "3.9.15"
    },
    "colab": {
      "provenance": [],
      "include_colab_link": true
    }
  },
  "nbformat": 4,
  "nbformat_minor": 5
}